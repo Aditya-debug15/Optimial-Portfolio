{
 "cells": [
  {
   "cell_type": "code",
   "execution_count": 2,
   "metadata": {},
   "outputs": [
    {
     "name": "stderr",
     "output_type": "stream",
     "text": [
      "/home/codeubuntu/.local/lib/python3.8/site-packages/scipy/__init__.py:146: UserWarning: A NumPy version >=1.16.5 and <1.23.0 is required for this version of SciPy (detected version 1.24.4\n",
      "  warnings.warn(f\"A NumPy version >={np_minversion} and <{np_maxversion}\"\n"
     ]
    },
    {
     "name": "stdout",
     "output_type": "stream",
     "text": [
      "torch.Size([500, 14])\n"
     ]
    }
   ],
   "source": [
    "import numpy as np\n",
    "import pandas as pd\n",
    "import torch\n",
    "import torch.nn as nn\n",
    "from sklearn.preprocessing import MinMaxScaler\n",
    "from torch.utils.data import DataLoader, Dataset\n",
    "\n",
    "# Step 1: Prepare the data\n",
    "# Load stock data\n",
    "data = pd.read_csv(\"stockData.csv\")\n",
    "train_size = 1000\n",
    "# Preprocess data\n",
    "scaler = MinMaxScaler(feature_range=(-1, 1))\n",
    "data_scaled = scaler.fit_transform(data.drop(\"date\", axis=1))\n",
    "\n",
    "# Split data into training and testing sets\n",
    "train_data = data_scaled[:train_size]\n",
    "test_data = data_scaled[train_size:1500]\n",
    "\n",
    "# Define dataset class\n",
    "class StockDataset(Dataset):\n",
    "    def __init__(self, data, seq_length):\n",
    "        self.data = data\n",
    "        self.seq_length = seq_length\n",
    "\n",
    "    def __len__(self):\n",
    "        return len(self.data) - self.seq_length\n",
    "\n",
    "    def __getitem__(self, idx):\n",
    "        return (\n",
    "            torch.FloatTensor(self.data[idx:idx+self.seq_length]),\n",
    "            torch.FloatTensor(self.data[idx+self.seq_length])\n",
    "        )\n",
    "\n",
    "# Define LSTM model\n",
    "class LSTM(nn.Module):\n",
    "    def __init__(self, input_size, hidden_size, num_layers, output_size):\n",
    "        super(LSTM, self).__init__()\n",
    "        self.hidden_size = hidden_size\n",
    "        self.num_layers = num_layers\n",
    "        self.lstm = nn.LSTM(input_size, hidden_size, num_layers, batch_first=True)\n",
    "        self.fc = nn.Linear(hidden_size, output_size)\n",
    "\n",
    "    def forward(self, x):\n",
    "        h0 = torch.zeros(self.num_layers, x.size(0), self.hidden_size)\n",
    "        c0 = torch.zeros(self.num_layers, x.size(0), self.hidden_size)\n",
    "        out, _ = self.lstm(x, (h0, c0))\n",
    "        out = self.fc(out[:, -1, :])\n",
    "        return out\n",
    "\n",
    "# Step 2: Define the model parameters\n",
    "input_size = len(data.columns) - 1  # Number of features (stocks)\n",
    "hidden_size = 64  # Number of LSTM units\n",
    "num_layers = 2  # Number of LSTM layers\n",
    "output_size = input_size  # Number of output neurons (predicted returns)\n",
    "seq_length = 50  # Sequence length for each input (number of days)\n",
    "num_epochs = 100\n",
    "learning_rate = 0.001\n",
    "\n",
    "# Step 3: Train the model\n",
    "model = LSTM(input_size, hidden_size, num_layers, output_size)\n",
    "criterion = nn.MSELoss()\n",
    "optimizer = torch.optim.Adam(model.parameters(), lr=learning_rate)\n",
    "\n",
    "train_dataset = StockDataset(train_data, seq_length)\n",
    "train_loader = DataLoader(train_dataset, batch_size=64, shuffle=True)\n",
    "\n",
    "for epoch in range(num_epochs):\n",
    "    for batch_inputs, batch_targets in train_loader:\n",
    "        optimizer.zero_grad()\n",
    "        outputs = model(batch_inputs)\n",
    "        loss = criterion(outputs, batch_targets)\n",
    "        loss.backward()\n",
    "        optimizer.step()\n",
    "\n",
    "# Step 4: Generate predictions\n",
    "model.eval()\n",
    "with torch.no_grad():\n",
    "    test_inputs = torch.FloatTensor(test_data)\n",
    "    print(test_inputs.shape)\n",
    "    test_loader = DataLoader(test_inputs, batch_size=1)\n",
    "    predictions = []\n",
    "    for inputs in test_loader:\n",
    "        inputs = inputs.unsqueeze(0)\n",
    "        output = model(inputs)\n",
    "        predictions.append(output.squeeze().cpu().numpy())\n",
    "\n",
    "# Step 5: Calculate returns\n",
    "predicted_prices = scaler.inverse_transform(predictions)\n",
    "returns = (predicted_prices[1:] - predicted_prices[:-1]) / predicted_prices[:-1]\n",
    "\n",
    "# Step 6: Evaluate the model\n",
    "# You can evaluate the model based on various metrics such as mean squared error, mean absolute error, etc.\n",
    "\n",
    "# Repeat steps 3-6 for 250 and 500 days by changing the seq_length parameter and adjusting the code accordingly.\n"
   ]
  },
  {
   "cell_type": "code",
   "execution_count": 19,
   "metadata": {},
   "outputs": [
    {
     "name": "stdout",
     "output_type": "stream",
     "text": [
      "ADANIPORTS    0.414589\n",
      "ASIANPAINT    1.519454\n",
      "AXISBANK      0.955531\n",
      "HDFC          0.153588\n",
      "ITC           0.011753\n",
      "TCS           0.056512\n",
      "HINDUNILVR    0.425456\n",
      "INFY          1.387708\n",
      "ICICIBANK     2.132541\n",
      "RELIANCE      0.088234\n",
      "KOTAKBANK      0.29487\n",
      "HEROMOTOCO   -0.159982\n",
      "WIPRO        -0.130756\n",
      "HCLTECH       0.473538\n",
      "Name: 999, dtype: object\n",
      "(1000, 14) (500, 14)\n",
      "(500, 14)\n",
      "(500, 14)\n"
     ]
    }
   ],
   "source": [
    "training_last_price = data.iloc[999]\n",
    "training_last_price = training_last_price.drop(\"date\")\n",
    "returns_0 = (predicted_prices[0] - training_last_price) / training_last_price\n",
    "print(returns_0)\n",
    "# add the first return to the returns array\n",
    "returns = np.insert(returns, 0, returns_0, axis=0)\n",
    "\n",
    "print(train_data.shape, test_data.shape)\n",
    "print(predicted_prices.shape)\n",
    "print(returns.shape)"
   ]
  },
  {
   "cell_type": "code",
   "execution_count": 21,
   "metadata": {},
   "outputs": [
    {
     "name": "stdout",
     "output_type": "stream",
     "text": [
      "0.2723491221907192\n"
     ]
    }
   ],
   "source": [
    "# evaluate the model by calculating the mean squared error for first 5 days\n",
    "print(np.mean((test_data - returns)**2))"
   ]
  },
  {
   "cell_type": "code",
   "execution_count": 22,
   "metadata": {},
   "outputs": [],
   "source": [
    "# returns for next 60 days, 250 days and 500 days\n",
    "returns_60 = returns[:60]\n",
    "returns_250 = returns[:250]\n",
    "returns_500 = returns[:500]"
   ]
  },
  {
   "cell_type": "code",
   "execution_count": 62,
   "metadata": {},
   "outputs": [],
   "source": [
    "def portfolio_return(weights, returns):\n",
    "    return weights.T.dot(returns)\n",
    "\n",
    "def portfolio_variance(weights, cov_matrix):\n",
    "    return weights.T.dot(cov_matrix).dot(weights)\n",
    "\n",
    "def objective_function(weights, cov_matrix, expected_returns, risk_aversion):\n",
    "    portfolio_ret = portfolio_return(weights, expected_returns)\n",
    "    portfolio_var = portfolio_variance(weights, cov_matrix)\n",
    "    objective = portfolio_ret - risk_aversion * portfolio_var\n",
    "    return objective\n",
    "\n",
    "def gradient(mu, cov_matrix, alpha, weights):\n",
    "    portfolio_var = portfolio_variance(weights, cov_matrix)\n",
    "    risk_gradient = alpha * cov_matrix.dot(weights)/portfolio_var\n",
    "    return mu + 4*risk_gradient\n",
    "\n",
    "def gradient_descent(mu, cov_matrix, alpha, learning_rate, num_iterations, threshold,random_weights, weights_value=[], objective_value=[], gradient_value=[]):\n",
    "    weights = random_weights\n",
    "    for i in range(num_iterations):\n",
    "        gradient_val = gradient(mu, cov_matrix, alpha, weights)\n",
    "        gradient_value.append(gradient_val)\n",
    "        weights = weights + learning_rate * gradient_val\n",
    "        weights = weights / np.sum(weights)\n",
    "        weights_value.append(weights)\n",
    "        objective_value.append(objective_function(weights, cov_matrix, mu, alpha))\n",
    "        if np.linalg.norm(gradient(mu, cov_matrix, alpha, weights)) < threshold:\n",
    "            break\n",
    "    return weights, objective_value, weights_value, gradient_value"
   ]
  },
  {
   "cell_type": "code",
   "execution_count": 53,
   "metadata": {},
   "outputs": [
    {
     "name": "stdout",
     "output_type": "stream",
     "text": [
      "[ 0.05577001  0.19820625  0.12485829  0.02151797  0.00233294  0.00810091\n",
      "  0.05640963  0.17954146  0.27681047  0.01332208  0.03977903 -0.01966996\n",
      " -0.01843093  0.06145185]\n"
     ]
    }
   ],
   "source": [
    "alpha = 0.0001\n",
    "learning_rate = 1\n",
    "num_iterations = 5000\n",
    "threshold = 1e-8\n",
    "weights_value = []\n",
    "objective_value = []\n",
    "gradient_value = []\n",
    "random_weights = np.random.rand(returns_60.shape[1])\n",
    "random_weights /= np.sum(random_weights)\n",
    "cov_matrix = np.cov(returns_60.T)\n",
    "expected_returns_60 = np.mean(returns_60, axis=0)\n",
    "weights_60, objective_value, weights_value, gradient_value = gradient_descent(expected_returns_60, np.cov(returns_60.T), alpha, learning_rate, num_iterations, threshold, random_weights, weights_value, objective_value, gradient_value)\n",
    "print(weights_60)"
   ]
  },
  {
   "cell_type": "code",
   "execution_count": 55,
   "metadata": {},
   "outputs": [
    {
     "name": "stdout",
     "output_type": "stream",
     "text": [
      "[0.05372311 0.19093159 0.12027568 0.02072821 0.00224732 0.00780359\n",
      " 0.05433925 0.17295184 0.26665083 0.01283313 0.03831904 0.\n",
      " 0.         0.05919641]\n"
     ]
    }
   ],
   "source": [
    "# handling negative weights\n",
    "weights_60[weights_60 < 0] = 0\n",
    "weights_60 /= np.sum(weights_60)\n",
    "print(weights_60)"
   ]
  },
  {
   "cell_type": "code",
   "execution_count": 56,
   "metadata": {},
   "outputs": [
    {
     "name": "stdout",
     "output_type": "stream",
     "text": [
      "(0.06, 0.06, 0.33)\n"
     ]
    }
   ],
   "source": [
    "# now testing this portfolio\n",
    "risk_free_rate = 0.04\n",
    "portfolio_test = data.iloc[train_size:train_size+60]\n",
    "portfolio_test = portfolio_test.drop(portfolio_test.columns[0], axis=1)\n",
    "returns = portfolio_test.pct_change().dropna()\n",
    "cov_matrix = returns.cov()\n",
    "portfolio_return = np.sum(returns.mean() * weights_60) * 60\n",
    "portfolio_std_dev = np.sqrt(np.dot(weights_60.T, np.dot(cov_matrix, weights_60))) * np.sqrt(60)\n",
    "sharpe_ratio = (portfolio_return - risk_free_rate) / portfolio_std_dev\n",
    "print(f'({portfolio_return:.2f}, {portfolio_std_dev:.2f}, {sharpe_ratio:.2f})')"
   ]
  },
  {
   "cell_type": "code",
   "execution_count": 59,
   "metadata": {},
   "outputs": [
    {
     "name": "stdout",
     "output_type": "stream",
     "text": [
      "[ 0.05674053  0.195066    0.12320995  0.02202835  0.00181673  0.00968527\n",
      "  0.05722763  0.17802889  0.27431229  0.01335853  0.0408033  -0.01850926\n",
      " -0.01678119  0.063013  ]\n"
     ]
    }
   ],
   "source": [
    "# now testing this portfolio for 250 days\n",
    "alpha = 0.0001\n",
    "learning_rate = 1\n",
    "num_iterations = 5000\n",
    "threshold = 1e-8\n",
    "weights_value = []\n",
    "objective_value = []\n",
    "gradient_value = []\n",
    "random_weights = np.random.rand(returns_250.shape[1])\n",
    "random_weights /= np.sum(random_weights)\n",
    "cov_matrix = np.cov(returns_250.T)\n",
    "expected_returns_250 = np.mean(returns_250, axis=0)\n",
    "weights_250, objective_value, weights_value, gradient_value = gradient_descent(expected_returns_250, np.cov(returns_250.T), alpha, learning_rate, num_iterations, threshold, random_weights, weights_value, objective_value, gradient_value)\n",
    "print(weights_250)"
   ]
  },
  {
   "cell_type": "code",
   "execution_count": 60,
   "metadata": {},
   "outputs": [
    {
     "name": "stdout",
     "output_type": "stream",
     "text": [
      "[0.05480638 0.18841669 0.11901003 0.02127746 0.0017548  0.00935512\n",
      " 0.05527688 0.17196033 0.26496167 0.01290317 0.03941242 0.\n",
      " 0.         0.06086504]\n"
     ]
    }
   ],
   "source": [
    "weights_250[weights_250 < 0] = 0\n",
    "weights_250 /= np.sum(weights_250)\n",
    "print(weights_250)"
   ]
  },
  {
   "cell_type": "code",
   "execution_count": 61,
   "metadata": {},
   "outputs": [
    {
     "name": "stdout",
     "output_type": "stream",
     "text": [
      "(0.15, 0.13, 0.58\n"
     ]
    }
   ],
   "source": [
    "# now testing this portfolio\n",
    "risk_free_rate = 0.075\n",
    "portfolio_test = data.iloc[train_size:train_size+250]\n",
    "portfolio_test = portfolio_test.drop(portfolio_test.columns[0], axis=1)\n",
    "returns = portfolio_test.pct_change().dropna()\n",
    "cov_matrix = returns.cov()\n",
    "portfolio_return = np.sum(returns.mean() * weights_250) * 250\n",
    "portfolio_std_dev = np.sqrt(np.dot(weights_250.T, np.dot(cov_matrix, weights_250))) * np.sqrt(250)\n",
    "sharpe_ratio = (portfolio_return - risk_free_rate) / portfolio_std_dev\n",
    "print(f'({portfolio_return:.2f}, {portfolio_std_dev:.2f}, {sharpe_ratio:.2f}')"
   ]
  },
  {
   "cell_type": "code",
   "execution_count": 63,
   "metadata": {},
   "outputs": [
    {
     "name": "stdout",
     "output_type": "stream",
     "text": [
      "[ 0.0561912   0.19780221  0.12665545  0.02218915  0.00155957  0.00752957\n",
      "  0.05658444  0.17933545  0.27604564  0.01379117  0.0403184  -0.02156492\n",
      " -0.01837442  0.06193709]\n"
     ]
    }
   ],
   "source": [
    "# now testing this portfolio for 250 days\n",
    "alpha = 0.0001\n",
    "learning_rate = 1\n",
    "num_iterations = 5000\n",
    "threshold = 1e-8\n",
    "weights_value = []\n",
    "objective_value = []\n",
    "gradient_value = []\n",
    "random_weights = np.random.rand(returns_500.shape[1])\n",
    "random_weights /= np.sum(random_weights)\n",
    "cov_matrix = np.cov(returns_500.T)\n",
    "expected_returns_500 = np.mean(returns_500, axis=0)\n",
    "weights_500, objective_value, weights_value, gradient_value = gradient_descent(expected_returns_500, np.cov(returns_500.T), alpha, learning_rate, num_iterations, threshold, random_weights, weights_value, objective_value, gradient_value)\n",
    "print(weights_500)"
   ]
  },
  {
   "cell_type": "code",
   "execution_count": 64,
   "metadata": {},
   "outputs": [
    {
     "name": "stdout",
     "output_type": "stream",
     "text": [
      "[0.05403315 0.19020553 0.12179119 0.02133697 0.00149967 0.0072404\n",
      " 0.05441129 0.172448   0.26544398 0.01326151 0.03876995 0.\n",
      " 0.         0.05955837]\n"
     ]
    }
   ],
   "source": [
    "weights_500[weights_500 < 0] = 0\n",
    "weights_500 /= np.sum(weights_500)\n",
    "print(weights_500)"
   ]
  },
  {
   "cell_type": "code",
   "execution_count": 65,
   "metadata": {},
   "outputs": [
    {
     "name": "stdout",
     "output_type": "stream",
     "text": [
      "(0.32, 0.21, 1.19\n"
     ]
    }
   ],
   "source": [
    "# now testing this portfolio\n",
    "risk_free_rate = 0.075\n",
    "portfolio_test = data.iloc[train_size:train_size+500]\n",
    "portfolio_test = portfolio_test.drop(portfolio_test.columns[0], axis=1)\n",
    "returns = portfolio_test.pct_change().dropna()\n",
    "cov_matrix = returns.cov()\n",
    "portfolio_return = np.sum(returns.mean() * weights_500) * 500\n",
    "portfolio_std_dev = np.sqrt(np.dot(weights_500.T, np.dot(cov_matrix, weights_500))) * np.sqrt(500)\n",
    "sharpe_ratio = (portfolio_return - risk_free_rate) / portfolio_std_dev\n",
    "print(f'({portfolio_return:.2f}, {portfolio_std_dev:.2f}, {sharpe_ratio:.2f}')\n"
   ]
  }
 ],
 "metadata": {
  "kernelspec": {
   "display_name": "Python 3",
   "language": "python",
   "name": "python3"
  },
  "language_info": {
   "codemirror_mode": {
    "name": "ipython",
    "version": 3
   },
   "file_extension": ".py",
   "mimetype": "text/x-python",
   "name": "python",
   "nbconvert_exporter": "python",
   "pygments_lexer": "ipython3",
   "version": "3.undefined.undefined"
  }
 },
 "nbformat": 4,
 "nbformat_minor": 2
}
