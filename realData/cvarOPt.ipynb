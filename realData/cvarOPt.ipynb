{
 "cells": [
  {
   "cell_type": "code",
   "execution_count": 47,
   "metadata": {},
   "outputs": [
    {
     "name": "stdout",
     "output_type": "stream",
     "text": [
      "       A    AAPL     ABC   ABMD    ABT   ADBE    ADM   ADSK    AEE\n",
      "0  41.81  105.26  103.71  90.28  44.91  93.94  36.68  60.93  43.23\n",
      "1  40.69  105.35  101.87  85.24  42.93  91.97  35.84  60.31  43.03\n",
      "2  40.55  102.71  103.36  85.00  42.92  92.34  36.24  60.39  43.54\n",
      "3  40.73  100.70  101.78  85.30  42.56  91.02  35.36  59.54  43.82\n",
      "4  39.00   96.45   98.53  81.92  41.54  89.11  34.52  55.98  43.85\n",
      "<pypfopt.efficient_frontier.efficient_cvar.EfficientCVaR object at 0x7f2bb8938b50>\n",
      "{'A': 0.0, 'AAPL': 0.0, 'ABC': 0.0, 'ABMD': 1.0, 'ABT': 0.0, 'ADBE': 0.0, 'ADM': 0.0, 'ADSK': 0.0, 'AEE': 0.0}\n",
      "Expected annual return: 51.3%\n",
      "Conditional Value at Risk: -16929.92%\n",
      "(0.5134385268827328, -169.29917946437817)\n"
     ]
    },
    {
     "name": "stderr",
     "output_type": "stream",
     "text": [
      "/home/codeubuntu/intel/oneapi/intelpython/latest/lib/python3.9/site-packages/cvxpy/reductions/solvers/solving_chain.py:336: FutureWarning: \n",
      "    Your problem is being solved with the ECOS solver by default. Starting in \n",
      "    CVXPY 1.5.0, Clarabel will be used as the default solver instead. To continue \n",
      "    using ECOS, specify the ECOS solver explicitly using the ``solver=cp.ECOS`` \n",
      "    argument to the ``problem.solve`` method.\n",
      "    \n",
      "  warnings.warn(ECOS_DEPRECATION_MSG, FutureWarning)\n"
     ]
    }
   ],
   "source": [
    "import pandas_datareader.data as web\n",
    "import datetime\n",
    "import pandas as pd\n",
    "from functools import reduce\n",
    "\n",
    "\n",
    "pd.set_option('display.max_columns', None)\n",
    "pd.set_option('display.max_rows', None)\n",
    "\n",
    "portfolio = pd.read_csv(\"data.csv\")\n",
    "# take only first 10 columns\n",
    "portfolio = portfolio.iloc[:, 1:10]\n",
    "print(portfolio.head())\n",
    "\n",
    "from pypfopt.expected_returns import mean_historical_return\n",
    "from pypfopt.risk_models import CovarianceShrinkage\n",
    "from pypfopt.efficient_frontier import EfficientCVaR\n",
    "\n",
    "mu = mean_historical_return(portfolio)\n",
    "S = CovarianceShrinkage(portfolio).ledoit_wolf()\n",
    "\n",
    "S = portfolio.cov()\n",
    "ef_cvar = EfficientCVaR(mu, S)\n",
    "cvar_weights = ef_cvar.min_cvar()\n",
    "cleaned_weights = ef_cvar.clean_weights()\n",
    "print(dict(cleaned_weights))\n",
    "\n",
    "print(ef_cvar.portfolio_performance(verbose=True))\n",
    "\n"
   ]
  }
 ],
 "metadata": {
  "kernelspec": {
   "display_name": "Python 3",
   "language": "python",
   "name": "python3"
  },
  "language_info": {
   "codemirror_mode": {
    "name": "ipython",
    "version": 3
   },
   "file_extension": ".py",
   "mimetype": "text/x-python",
   "name": "python",
   "nbconvert_exporter": "python",
   "pygments_lexer": "ipython3",
   "version": "3.9.7"
  }
 },
 "nbformat": 4,
 "nbformat_minor": 2
}
